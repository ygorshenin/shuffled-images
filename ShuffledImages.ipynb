{
 "cells": [
  {
   "cell_type": "code",
   "execution_count": 131,
   "metadata": {},
   "outputs": [],
   "source": [
    "from PIL import Image\n",
    "import matplotlib.pyplot as pyplot\n",
    "import numpy as np\n",
    "import random\n",
    "import glob\n",
    "import sys"
   ]
  },
  {
   "cell_type": "code",
   "execution_count": 67,
   "metadata": {},
   "outputs": [],
   "source": [
    "SIZE = 512\n",
    "PATCH = 64"
   ]
  },
  {
   "cell_type": "code",
   "execution_count": 90,
   "metadata": {},
   "outputs": [],
   "source": [
    "def all_transpositions(im):\n",
    "    yield im\n",
    "    yield im.transpose(Image.FLIP_LEFT_RIGHT)\n",
    "    yield im.transpose(Image.FLIP_TOP_BOTTOM)\n",
    "    yield im.transpose(Image.ROTATE_180)"
   ]
  },
  {
   "cell_type": "code",
   "execution_count": 128,
   "metadata": {},
   "outputs": [],
   "source": [
    "def random_patch(im):\n",
    "    i = random.randrange(0, SIZE, PATCH)\n",
    "    j = random.randrange(0, SIZE, PATCH)\n",
    "    return im.crop((i, j, i + PATCH, j + PATCH))\n",
    "\n",
    "def generate_patches(im):\n",
    "    total = 0\n",
    "    for i in range(0, SIZE, 2 * PATCH):\n",
    "        for j in range(0, SIZE, PATCH):\n",
    "            patch = im.crop((i, j, i + 2 * PATCH, j + PATCH))\n",
    "            for image in all_transpositions(patch):\n",
    "                yield image, 1\n",
    "                total += 1\n",
    "    for i in range(0, SIZE, PATCH):\n",
    "        for j in range(0, SIZE, 2 * PATCH):\n",
    "            patch = im.crop((i, j, i + PATCH, j + 2 * PATCH))\n",
    "            for image in all_transpositions(patch.transpose(Image.ROTATE_90)):\n",
    "                yield image, 1\n",
    "                total += 1\n",
    "    for _ in range(total):\n",
    "        a = random_patch(im)\n",
    "        b = random_patch(im)\n",
    "        image = Image.new('L', (2 * PATCH, PATCH))\n",
    "        image.paste(a, (0, 0))\n",
    "        image.paste(b, (PATCH, 0))\n",
    "        yield image, 0"
   ]
  },
  {
   "cell_type": "code",
   "execution_count": 133,
   "metadata": {},
   "outputs": [
    {
     "name": "stdout",
     "output_type": "stream",
     "text": [
      "307200 307200\n",
      "2678096 2678096\n"
     ]
    }
   ],
   "source": [
    "xs, ys = [], []\n",
    "for path in glob.glob('*.png'):\n",
    "    im = Image.open(path).convert('L')\n",
    "    assert im.height == SIZE\n",
    "    assert im.width == SIZE\n",
    "    for x, y in generate_patches(im):\n",
    "        xs.append(np.asarray(x).flatten() / 255)\n",
    "        ys.append(y)\n",
    "print(len(xs), len(ys))\n",
    "print(sys.getsizeof(xs), sys.getsizeof(ys))"
   ]
  }
 ],
 "metadata": {
  "kernelspec": {
   "display_name": "Python 3",
   "language": "python",
   "name": "python3"
  },
  "language_info": {
   "codemirror_mode": {
    "name": "ipython",
    "version": 3
   },
   "file_extension": ".py",
   "mimetype": "text/x-python",
   "name": "python",
   "nbconvert_exporter": "python",
   "pygments_lexer": "ipython3",
   "version": "3.7.3"
  }
 },
 "nbformat": 4,
 "nbformat_minor": 2
}
